{
 "cells": [
  {
   "cell_type": "code",
   "execution_count": 29,
   "metadata": {},
   "outputs": [],
   "source": [
    "import os\n",
    "import csv\n",
    "\n",
    "# Path to collect data from the Resources folder\n",
    "csvpath = os.path.join('Resources', 'election_test.csv')"
   ]
  },
  {
   "cell_type": "code",
   "execution_count": 30,
   "metadata": {},
   "outputs": [],
   "source": [
    "# Initialize variables to hold data\n",
    "Total_Votes = 0\n",
    "Candidates = []\n",
    "Final_Count = {}\n",
    "Candidate_Votes = 0"
   ]
  },
  {
   "cell_type": "code",
   "execution_count": 31,
   "metadata": {},
   "outputs": [],
   "source": [
    "# Vote Tally function to count the number of votes for a single candidate\n",
    "def Vote_Tally(candidate):\n",
    "    Candidate_Votes = 0             # Initialize variable for number of candidate votes\n",
    "    # candidate = Cand       # Set candidate to be equal to candidate in list.  Applicable in a for loop.\n",
    "    for row in election_csv:        # Search for candidate's number of occurrences in the CSV. \n",
    "        if row[2] == candidate:         # Increase the # of candidate votes if candidates' name is found\n",
    "            Candidate_Votes = Candidate_Votes + 1\n",
    "    y = Candidate_Votes             # Set value for dictionary\n",
    "    Final_Count.update([(candidate, y)])    # Append key:value to dictionary, where candidate's name is the key and candidate votes is the value\n",
    "    return Final_Count\n",
    "    # Candidate_Votes = 0"
   ]
  },
  {
   "cell_type": "code",
   "execution_count": 32,
   "metadata": {},
   "outputs": [],
   "source": [
    "# Read CSV\n",
    "with open(csvpath, newline=\"\") as csvfile:\n",
    "    election_csv = csv.reader(csvfile, delimiter=\",\")\n",
    "    # skip headers\n",
    "    header = next(election_csv)\n",
    "\n",
    "    # Loop through data \n",
    "    for row in election_csv:\n",
    "        # Find total number of votes\n",
    "        if row[0] != 0:\n",
    "            Total_Votes = Total_Votes + 1\n",
    "\n",
    "        # Find unique Candidates.  Append to list\n",
    "        if str(row[2]) not in Candidates:\n",
    "            Candidates.append(str(row[2])) \n",
    "\n",
    "   # Find number of Candidates\n",
    "    Num_Cand = len(Candidates)"
   ]
  },
  {
   "cell_type": "code",
   "execution_count": 33,
   "metadata": {},
   "outputs": [
    {
     "name": "stdout",
     "output_type": "stream",
     "text": [
      "{'Khan': 138}\n",
      "{'Khan': 138, 'Correy': 0}\n",
      "{'Khan': 138, 'Correy': 0, 'Li': 0}\n",
      "{'Khan': 138, 'Correy': 0, 'Li': 0, \"O'Tooley\": 0}\n"
     ]
    }
   ],
   "source": [
    "with open(csvpath, newline=\"\") as csvfile:\n",
    "    election_csv = csv.reader(csvfile, delimiter=\",\")\n",
    "\n",
    "    for x in range(0, Num_Cand):\n",
    "        Cand = Candidates[x]\n",
    "        count = Vote_Tally(Cand)\n",
    "        print(count)\n",
    "    \n",
    "#     Correy = Vote_Tally(Candidates[2])\n",
    "#     print(candidate)"
   ]
  },
  {
   "cell_type": "code",
   "execution_count": 34,
   "metadata": {},
   "outputs": [
    {
     "name": "stdout",
     "output_type": "stream",
     "text": [
      "Total Votes = 200\n",
      "['Khan', 'Correy', 'Li', \"O'Tooley\"]\n",
      "Number of Candidates: 4\n",
      "{'Khan': 138, 'Correy': 0, 'Li': 0, \"O'Tooley\": 0}\n",
      "{\"O'Tooley\": 0, 'Khan': 138, 'Correy': 0, 'Li': 0}\n"
     ]
    }
   ],
   "source": [
    "print(f\"Total Votes = {Total_Votes}\")\n",
    "print(Candidates)\n",
    "print(f\"Number of Candidates: {Num_Cand}\")\n",
    "print(Final_Count)\n",
    "print(Correy)\n"
   ]
  },
  {
   "cell_type": "code",
   "execution_count": null,
   "metadata": {},
   "outputs": [],
   "source": []
  }
 ],
 "metadata": {
  "kernelspec": {
   "display_name": "Python 3",
   "language": "python",
   "name": "python3"
  },
  "language_info": {
   "codemirror_mode": {
    "name": "ipython",
    "version": 3
   },
   "file_extension": ".py",
   "mimetype": "text/x-python",
   "name": "python",
   "nbconvert_exporter": "python",
   "pygments_lexer": "ipython3",
   "version": "3.7.1"
  }
 },
 "nbformat": 4,
 "nbformat_minor": 2
}
